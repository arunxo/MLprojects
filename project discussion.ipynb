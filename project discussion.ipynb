{
 "cells": [
  {
   "cell_type": "code",
   "execution_count": 1,
   "id": "a0a86682",
   "metadata": {},
   "outputs": [],
   "source": [
    "import pandas as pd\n",
    "from ecom import utilities\n",
    "from ecom import transactions\n",
    "from ecom import products\n",
    "from ecom import customers\n",
    "from ecom import operations\n",
    "from ecom import reports\n",
    "\n"
   ]
  },
  {
   "cell_type": "code",
   "execution_count": 2,
   "id": "0f0c9bd8",
   "metadata": {},
   "outputs": [],
   "source": [
    "#Load sample data"
   ]
  },
  {
   "cell_type": "code",
   "execution_count": 3,
   "id": "de07bde7",
   "metadata": {},
   "outputs": [
    {
     "name": "stdout",
     "output_type": "stream",
     "text": [
      "  order_id     sku                          description  quantity  \\\n",
      "0   536365  85123A   WHITE HANGING HEART T-LIGHT HOLDER         6   \n",
      "1   536365   71053                  WHITE METAL LANTERN         6   \n",
      "2   536365  84406B       CREAM CUPID HEARTS COAT HANGER         8   \n",
      "3   536365  84029G  KNITTED UNION FLAG HOT WATER BOTTLE         6   \n",
      "4   536365  84029E       RED WOOLLY HOTTIE WHITE HEART.         6   \n",
      "\n",
      "           order_date  unit_price  customer_id         country  line_price  \n",
      "0 2010-12-01 08:26:00        2.55      17850.0  United Kingdom       15.30  \n",
      "1 2010-12-01 08:26:00        3.39      17850.0  United Kingdom       20.34  \n",
      "2 2010-12-01 08:26:00        2.75      17850.0  United Kingdom       22.00  \n",
      "3 2010-12-01 08:26:00        3.39      17850.0  United Kingdom       20.34  \n",
      "4 2010-12-01 08:26:00        3.39      17850.0  United Kingdom       20.34  \n",
      "\n"
     ]
    }
   ],
   "source": [
    "transaction_items = utilities.load_sample_data()\n",
    "print(transaction_items.head())\n",
    "transaction_items.to_csv(\"transaction_items.csv\")\n",
    "print()\n",
    "\n"
   ]
  },
  {
   "cell_type": "code",
   "execution_count": 4,
   "id": "9795ce13",
   "metadata": {},
   "outputs": [
    {
     "name": "stdout",
     "output_type": "stream",
     "text": [
      "  order_id          order_date  customer_id  skus  items  revenue  \\\n",
      "0   536365 2010-12-01 08:26:00      17850.0     7     40   139.12   \n",
      "1   536366 2010-12-01 08:28:00      17850.0     2     12    22.20   \n",
      "2   536367 2010-12-01 08:34:00      13047.0    12     83   278.73   \n",
      "3   536368 2010-12-01 08:34:00      13047.0     4     15    70.05   \n",
      "4   536369 2010-12-01 08:35:00      13047.0     1      3    17.85   \n",
      "\n",
      "   replacement  order_number  \n",
      "0            0             1  \n",
      "1            0             2  \n",
      "2            0             1  \n",
      "3            0             2  \n",
      "4            0             3  \n",
      "\n"
     ]
    }
   ],
   "source": [
    "#Create transactions dataframe\n",
    "\n",
    "\n",
    "transactions = transactions.get_transactions(transaction_items)\n",
    "print(transactions.head())\n",
    "transactions.to_csv(\"transactions.csv\")\n",
    "print()"
   ]
  },
  {
   "cell_type": "code",
   "execution_count": 5,
   "id": "6415dec6",
   "metadata": {},
   "outputs": [
    {
     "name": "stdout",
     "output_type": "stream",
     "text": [
      "      sku    first_order_date     last_order_date  customers  orders  items  \\\n",
      "0   10002 2010-12-01 08:45:00 2011-04-28 15:05:00         40      73   1037   \n",
      "1   10080 2011-02-27 13:47:00 2011-11-21 17:04:00         19      24    495   \n",
      "2   10120 2010-12-03 11:19:00 2011-12-04 13:15:00         25      29    193   \n",
      "3  10123C 2010-12-03 11:19:00 2011-07-15 15:05:00          3       4    -13   \n",
      "4  10123G 2011-04-08 11:13:00 2011-04-08 11:13:00          0       1    -38   \n",
      "\n",
      "   revenue  avg_unit_price  avg_quantity  avg_revenue  avg_orders  \\\n",
      "0   759.89        1.056849     14.205479    10.409452        1.82   \n",
      "1   119.09        0.376667     20.625000     4.962083        1.26   \n",
      "2    40.53        0.210000      6.433333     1.351000        1.16   \n",
      "3     3.25        0.487500     -3.250000     0.812500        1.33   \n",
      "4     0.00        0.000000    -38.000000     0.000000         inf   \n",
      "\n",
      "   product_tenure  product_recency  \n",
      "0            4530             4382  \n",
      "1            4442             4175  \n",
      "2            4528             4162  \n",
      "3            4528             4304  \n",
      "4            4402             4402  \n",
      "\n"
     ]
    }
   ],
   "source": [
    "#Create products dataframe\n",
    "\n",
    "products_df = products.get_products(transaction_items)\n",
    "print(products_df.head())\n",
    "products_df.to_csv(\"products.csv\")\n",
    "print()"
   ]
  },
  {
   "cell_type": "code",
   "execution_count": 6,
   "id": "8cf9c026",
   "metadata": {},
   "outputs": [
    {
     "name": "stdout",
     "output_type": "stream",
     "text": [
      "     sku  revenue  items  orders  customers  avg_unit_price  avg_line_price  \\\n",
      "0  10002   759.89   1037      73         40        1.056849       10.409452   \n",
      "1  10080   119.09    495      24         19        0.376667        4.962083   \n",
      "2  10120    40.53    193      29         25        0.210000        1.351000   \n",
      "\n",
      "   avg_items_per_order  avg_items_per_customer  purchased_individually  \\\n",
      "0            14.205479               25.925000                     0.0   \n",
      "1            20.625000               26.052632                     0.0   \n",
      "2             6.655172                7.720000                     9.0   \n",
      "\n",
      "   purchased_once  bulk_purchases  bulk_purchase_rate  repurchases  \\\n",
      "0            34.0            73.0            1.000000         39.0   \n",
      "1            17.0            24.0            1.000000          7.0   \n",
      "2            22.0            20.0            0.689655          7.0   \n",
      "\n",
      "   repurchase_rate repurchase_rate_label bulk_purchase_rate_label  \\\n",
      "0         0.534247   Moderate repurchase           Very high bulk   \n",
      "1         0.291667        Low repurchase           Very high bulk   \n",
      "2         0.241379        Low repurchase                High bulk   \n",
      "\n",
      "            bulk_and_repurchase_label  \n",
      "0  Moderate repurchase_Very high bulk  \n",
      "1       Low repurchase_Very high bulk  \n",
      "2            Low repurchase_High bulk  \n",
      "\n"
     ]
    }
   ],
   "source": [
    "#Create repurchase rates dataframe\n",
    "\n",
    "\n",
    "repurchase_rates = products.get_repurchase_rates(transaction_items)\n",
    "print(repurchase_rates.head(3))\n",
    "repurchase_rates.to_csv(\"repurchase_rates.csv\")\n",
    "print()"
   ]
  },
  {
   "cell_type": "code",
   "execution_count": 7,
   "id": "02c25f31",
   "metadata": {},
   "outputs": [
    {
     "name": "stdout",
     "output_type": "stream",
     "text": [
      "   customer_id  revenue  orders  skus  items    first_order_date  \\\n",
      "0      12346.0     0.00       2     1      0 2011-01-18 10:01:00   \n",
      "1      12347.0  4310.00       7     7   2458 2010-12-07 14:57:00   \n",
      "2      12348.0  1797.24       4     4   2341 2010-12-16 19:09:00   \n",
      "3      12349.0  1757.55       1     1    631 2011-11-21 09:51:00   \n",
      "4      12350.0   334.40       1     1    197 2011-02-02 16:01:00   \n",
      "\n",
      "      last_order_date  avg_items  avg_order_value  tenure  recency cohort  \n",
      "0 2011-01-18 10:17:00       0.00             0.00    4482     4482  20111  \n",
      "1 2011-12-07 15:52:00     351.14           615.71    4524     4159  20104  \n",
      "2 2011-09-25 13:13:00     585.25           449.31    4515     4232  20104  \n",
      "3 2011-11-21 09:51:00     631.00          1757.55    4175     4175  20114  \n",
      "4 2011-02-02 16:01:00     197.00           334.40    4467     4467  20111  \n",
      "\n"
     ]
    }
   ],
   "source": [
    "#Create customers dataframe\n",
    " \n",
    "\n",
    "customers_df = customers.get_customers(transaction_items)\n",
    "print(customers_df.head())\n",
    "customers_df.to_csv(\"customers_df.csv\")\n",
    "print()"
   ]
  },
  {
   "cell_type": "code",
   "execution_count": 8,
   "id": "9016d373",
   "metadata": {},
   "outputs": [
    {
     "name": "stdout",
     "output_type": "stream",
     "text": [
      "    customer_id order_id          order_date acquisition_cohort order_cohort\n",
      "0       17850.0   536365 2010-12-01 08:26:00            2010-12      2010-12\n",
      "7       17850.0   536366 2010-12-01 08:28:00            2010-12      2010-12\n",
      "9       13047.0   536367 2010-12-01 08:34:00            2010-12      2010-12\n",
      "21      13047.0   536368 2010-12-01 08:34:00            2010-12      2010-12\n",
      "25      13047.0   536369 2010-12-01 08:35:00            2010-12      2010-12\n",
      "\n"
     ]
    }
   ],
   "source": [
    " #Create cohorts dataframe\n",
    "\n",
    "\n",
    "cohorts_df = customers.get_cohorts(transaction_items, period='M')\n",
    "print(cohorts_df.head())\n",
    "cohorts_df.to_csv(\"cohorts_df.csv\")\n",
    "print()"
   ]
  },
  {
   "cell_type": "code",
   "execution_count": 9,
   "id": "d35fbb37",
   "metadata": {},
   "outputs": [
    {
     "name": "stdout",
     "output_type": "stream",
     "text": [
      "periods              0         1         2         3         4         5   \\\n",
      "acquisition_cohort                                                          \n",
      "2010-12             1.0  0.381857  0.334388  0.387131  0.359705  0.396624   \n",
      "2011-01             1.0  0.239905  0.282660  0.242280  0.327791  0.299287   \n",
      "2011-02             1.0  0.247368  0.192105  0.278947  0.268421  0.247368   \n",
      "2011-03             1.0  0.190909  0.254545  0.218182  0.231818  0.177273   \n",
      "2011-04             1.0  0.227425  0.220736  0.210702  0.207358  0.237458   \n",
      "\n",
      "periods                   6         7         8         9         10  \\\n",
      "acquisition_cohort                                                     \n",
      "2010-12             0.379747  0.354430  0.354430  0.394515  0.373418   \n",
      "2011-01             0.261283  0.256532  0.311164  0.346793  0.368171   \n",
      "2011-02             0.255263  0.281579  0.257895  0.313158  0.092105   \n",
      "2011-03             0.263636  0.238636  0.288636  0.088636       NaN   \n",
      "2011-04             0.230769  0.260870  0.083612       NaN       NaN   \n",
      "\n",
      "periods                   11        12  \n",
      "acquisition_cohort                      \n",
      "2010-12             0.500000  0.274262  \n",
      "2011-01             0.149644       NaN  \n",
      "2011-02                  NaN       NaN  \n",
      "2011-03                  NaN       NaN  \n",
      "2011-04                  NaN       NaN  \n",
      "\n"
     ]
    }
   ],
   "source": [
    " #Create cohort matrix dataframe\n",
    "\n",
    "\n",
    "cohort_matrix_df = customers.get_cohort_matrix(transaction_items, period='M', percentage=True)\n",
    "print(cohort_matrix_df.head())\n",
    "cohort_matrix_df.to_csv(\"cohort_matrix_df.csv\")\n",
    "print()"
   ]
  },
  {
   "cell_type": "code",
   "execution_count": 10,
   "id": "b998d7a7",
   "metadata": {},
   "outputs": [
    {
     "name": "stdout",
     "output_type": "stream",
     "text": [
      "periods                0      1      2      3      4      5      6      7   \\\n",
      "acquisition_cohort                                                           \n",
      "2010-12             948.0  362.0  317.0  367.0  341.0  376.0  360.0  336.0   \n",
      "2011-01             421.0  101.0  119.0  102.0  138.0  126.0  110.0  108.0   \n",
      "2011-02             380.0   94.0   73.0  106.0  102.0   94.0   97.0  107.0   \n",
      "2011-03             440.0   84.0  112.0   96.0  102.0   78.0  116.0  105.0   \n",
      "2011-04             299.0   68.0   66.0   63.0   62.0   71.0   69.0   78.0   \n",
      "\n",
      "periods                8      9      10     11     12  \n",
      "acquisition_cohort                                     \n",
      "2010-12             336.0  374.0  354.0  474.0  260.0  \n",
      "2011-01             131.0  146.0  155.0   63.0    NaN  \n",
      "2011-02              98.0  119.0   35.0    NaN    NaN  \n",
      "2011-03             127.0   39.0    NaN    NaN    NaN  \n",
      "2011-04              25.0    NaN    NaN    NaN    NaN  \n",
      "\n"
     ]
    }
   ],
   "source": [
    "cohort_matrix_df = customers.get_cohort_matrix(transaction_items, period='M', percentage=False)\n",
    "print(cohort_matrix_df.head())\n",
    "cohort_matrix_df.to_csv(\"cohort_matrix_df.csv\")\n",
    "print()"
   ]
  },
  {
   "cell_type": "code",
   "execution_count": 11,
   "id": "c2dde1f7",
   "metadata": {},
   "outputs": [
    {
     "name": "stdout",
     "output_type": "stream",
     "text": [
      "   customer_id    acquisition_date        recency_date  recency  frequency  \\\n",
      "0      12346.0 2011-01-18 10:01:00 2011-01-18 10:17:00     4482          2   \n",
      "1      12350.0 2011-02-02 16:01:00 2011-02-02 16:01:00     4467          1   \n",
      "2      12365.0 2011-02-21 13:51:00 2011-02-21 14:04:00     4448          3   \n",
      "3      12373.0 2011-02-01 13:10:00 2011-02-01 13:10:00     4468          1   \n",
      "4      12377.0 2010-12-20 09:37:00 2011-01-28 15:45:00     4472          2   \n",
      "\n",
      "   monetary  heterogeneity  tenure  r  f  m  h  rfm  rfm_score  \\\n",
      "0      0.00              1    4482  1  1  1  1  111          3   \n",
      "1    334.40              1    4467  1  1  1  1  111          3   \n",
      "2    320.69              2    4448  1  1  1  1  111          3   \n",
      "3    364.60              1    4468  1  1  1  1  111          3   \n",
      "4   1628.12              2    4511  1  1  1  1  111          3   \n",
      "\n",
      "  rfm_segment_name  \n",
      "0            Risky  \n",
      "1            Risky  \n",
      "2            Risky  \n",
      "3            Risky  \n",
      "4            Risky  \n",
      "\n"
     ]
    }
   ],
   "source": [
    " \n",
    " #Create RFM dataframe\n",
    " \n",
    "\n",
    "rfm_df = customers.get_rfm_segments(customers_df)\n",
    "print(rfm_df.head())\n",
    "rfm_df.to_csv(\"rfm_df.csv\")\n",
    "print()\n",
    "\n",
    "\n",
    "\n",
    "\n",
    "\n",
    "\n",
    "\n",
    "\n",
    "\n",
    "\n",
    " "
   ]
  },
  {
   "cell_type": "code",
   "execution_count": 12,
   "id": "7b6f3adc",
   "metadata": {},
   "outputs": [
    {
     "name": "stdout",
     "output_type": "stream",
     "text": [
      "   customer_id  frequency        recency_date  recency  avg_latency  \\\n",
      "0      12680.0          4 2011-12-09 12:50:00     4157           28   \n",
      "1      13113.0         24 2011-12-09 12:49:00     4157           15   \n",
      "2      15804.0         13 2011-12-09 12:31:00     4157           15   \n",
      "3      13777.0         33 2011-12-09 12:25:00     4157           11   \n",
      "4      17581.0         25 2011-12-09 12:21:00     4157           14   \n",
      "\n",
      "   min_latency  max_latency  std_latency        cv  days_to_next_order  \\\n",
      "0           16           73    30.859898  1.102139             -4098.0   \n",
      "1            0           52    12.060126  0.804008             -4130.0   \n",
      "2            1           39    11.008261  0.733884             -4131.0   \n",
      "3            0           48    12.055274  1.095934             -4134.0   \n",
      "4            0           67    21.974293  1.569592             -4121.0   \n",
      "\n",
      "           label  \n",
      "0  Order overdue  \n",
      "1  Order overdue  \n",
      "2  Order overdue  \n",
      "3  Order overdue  \n",
      "4  Order overdue  \n",
      "\n"
     ]
    }
   ],
   "source": [
    " #Create latency dataframe\n",
    " \n",
    "\n",
    "latency_df = customers.get_latency(transactions)\n",
    "print(latency_df.head())\n",
    "latency_df.to_csv(\"latency_df.csv\")\n",
    "print()"
   ]
  },
  {
   "cell_type": "code",
   "execution_count": 13,
   "id": "c2ed1ccd",
   "metadata": {},
   "outputs": [
    {
     "name": "stdout",
     "output_type": "stream",
     "text": [
      "   customer_id abc_class_12m  abc_rank_12m\n",
      "0      12346.0             D           1.0\n",
      "1      12347.0             D           1.0\n",
      "2      12348.0             D           1.0\n",
      "3      12349.0             D           1.0\n",
      "4      12350.0             D           1.0\n",
      "\n"
     ]
    }
   ],
   "source": [
    " \n",
    " #Create customer ABC dataframe\n",
    " \n",
    "\n",
    "abc_df = customers.get_abc_segments(customers_df, months=12, abc_class_name='abc_class_12m', abc_rank_name='abc_rank_12m')\n",
    "print(abc_df.head())\n",
    "abc_df.to_csv(\"abc_df.csv\")\n",
    "print()"
   ]
  },
  {
   "cell_type": "code",
   "execution_count": 14,
   "id": "4a48e235",
   "metadata": {},
   "outputs": [
    {
     "name": "stdout",
     "output_type": "stream",
     "text": [
      "   customer_id  predicted_purchases         aov         clv\n",
      "0      12346.0             0.188830         NaN         NaN\n",
      "1      12347.0             1.408736  569.978836  836.846896\n",
      "2      12348.0             0.805907  333.784235  308.247354\n",
      "3      12349.0             0.855607         NaN         NaN\n",
      "4      12350.0             0.196304         NaN         NaN\n",
      "5      12352.0             1.682277  376.175359  647.826169\n",
      "6      12353.0             0.272541         NaN         NaN\n",
      "7      12354.0             0.247183         NaN         NaN\n",
      "8      12355.0             0.262909         NaN         NaN\n",
      "9      12356.0             0.645368  324.039419  256.855226\n",
      "\n"
     ]
    }
   ],
   "source": [
    " #Create customer predictions dataframe\n",
    "\n",
    "\n",
    "customer_predictions = customers.get_customer_predictions(transactions,\n",
    "                                                          observation_period_end='2011-12-09',\n",
    "                                                          days=90)\n",
    "print(customer_predictions.head(10))\n",
    "customer_predictions.to_csv(\"customer_predictions.csv\")\n",
    "print()"
   ]
  },
  {
   "cell_type": "code",
   "execution_count": 15,
   "id": "18f4da5e",
   "metadata": {},
   "outputs": [
    {
     "name": "stdout",
     "output_type": "stream",
     "text": [
      "         sku abc_class  abc_rank    revenue  revenue_cumsum  revenue_total  \\\n",
      "4059     DOT         A         1  206245.48       206245.48    9747747.934   \n",
      "1348   22423         A         2  164762.19       371007.67    9747747.934   \n",
      "2733   47566         A         3   98302.98       469310.65    9747747.934   \n",
      "3536  85123A         A         4   97894.50       567205.15    9747747.934   \n",
      "3515  85099B         A         5   92356.03       659561.18    9747747.934   \n",
      "\n",
      "      revenue_running_percentage  \n",
      "4059                    2.115827  \n",
      "1348                    3.806086  \n",
      "2733                    4.814555  \n",
      "3536                    5.818833  \n",
      "3515                    6.766293  \n",
      "C    2923\n",
      "A     736\n",
      "B     411\n",
      "Name: abc_class, dtype: int64\n",
      "\n"
     ]
    }
   ],
   "source": [
    " #Create ABC inventory classification dataframe\n",
    "\n",
    "\n",
    "inventory_classification = operations.get_inventory_classification(transaction_items, verbose=True)\n",
    "print(inventory_classification.head())\n",
    "print(inventory_classification.abc_class.value_counts())\n",
    "inventory_classification.to_csv(\"inventory_classification.csv\")\n",
    "print()"
   ]
  },
  {
   "cell_type": "code",
   "execution_count": 16,
   "id": "6d63f9b9",
   "metadata": {},
   "outputs": [
    {
     "name": "stdout",
     "output_type": "stream",
     "text": [
      "   year_month  orders  customers  new_customers  returning_customers  \\\n",
      "0     2010-12    2025        948            949                   -1   \n",
      "1     2011-01    1476        783            421                  362   \n",
      "2     2011-02    1393        798            380                  418   \n",
      "3     2011-03    1983       1020            440                  580   \n",
      "4     2011-04    1744        899            299                  600   \n",
      "5     2011-05    2162       1079            279                  800   \n",
      "6     2011-06    2012       1051            235                  816   \n",
      "7     2011-07    1927        993            191                  802   \n",
      "8     2011-08    1737        980            167                  813   \n",
      "9     2011-09    2327       1302            298                 1004   \n",
      "10    2011-10    2637       1425            352                 1073   \n",
      "11    2011-11    3462       1711            321                 1390   \n",
      "12    2011-12    1015        686             41                  645   \n",
      "\n",
      "    acquisition_rate  \n",
      "0             100.11  \n",
      "1              53.77  \n",
      "2              47.62  \n",
      "3              43.14  \n",
      "4              33.26  \n",
      "5              25.86  \n",
      "6              22.36  \n",
      "7              19.23  \n",
      "8              17.04  \n",
      "9              22.89  \n",
      "10             24.70  \n",
      "11             18.76  \n",
      "12              5.98  \n",
      "\n"
     ]
    }
   ],
   "source": [
    " \n",
    " #Load customers report\n",
    " \n",
    "\n",
    "df_customers_report = reports.customers_report(transaction_items, frequency='M')\n",
    "print(df_customers_report.head(13))\n",
    "df_customers_report.to_csv(\"df_customers_report.csv\")\n",
    "print()"
   ]
  },
  {
   "cell_type": "code",
   "execution_count": 17,
   "id": "349ae9e2",
   "metadata": {},
   "outputs": [
    {
     "name": "stdout",
     "output_type": "stream",
     "text": [
      "   year_month  customers  orders      revenue   skus   units  avg_order_value  \\\n",
      "0     2010-12        948    2025   748957.020  42481  342228           369.86   \n",
      "1     2011-01        783    1476   560000.260  35147  308966           379.40   \n",
      "2     2011-02        798    1393   498062.650  27707  277989           357.55   \n",
      "3     2011-03       1020    1983   683267.080  36748  351872           344.56   \n",
      "4     2011-04        899    1744   493207.121  29916  289098           282.80   \n",
      "5     2011-05       1079    2162   723333.510  37030  380391           334.57   \n",
      "6     2011-06       1051    2012   691123.120  36874  341623           343.50   \n",
      "7     2011-07        993    1927   681300.111  39518  391116           353.55   \n",
      "8     2011-08        980    1737   682680.510  35284  406199           393.02   \n",
      "9     2011-09       1302    2327  1019687.622  50226  549817           438.20   \n",
      "10    2011-10       1425    2637  1070704.670  60742  570532           406.03   \n",
      "11    2011-11       1711    3462  1461756.250  84711  740286           422.23   \n",
      "12    2011-12        686    1015   433668.010  25525  226333           427.26   \n",
      "\n",
      "    avg_skus_per_order  avg_units_per_order  avg_revenue_per_customer  \n",
      "0                20.98               169.00                    790.04  \n",
      "1                23.81               209.33                    715.20  \n",
      "2                19.89               199.56                    624.14  \n",
      "3                18.53               177.44                    669.87  \n",
      "4                17.15               165.77                    548.62  \n",
      "5                17.13               175.94                    670.37  \n",
      "6                18.33               169.79                    657.59  \n",
      "7                20.51               202.97                    686.10  \n",
      "8                20.31               233.85                    696.61  \n",
      "9                21.58               236.28                    783.17  \n",
      "10               23.03               216.36                    751.37  \n",
      "11               24.47               213.83                    854.33  \n",
      "12               25.15               222.99                    632.17  \n",
      "\n"
     ]
    }
   ],
   "source": [
    "\n",
    " #Load transactions report\n",
    " \n",
    "\n",
    "df_orders_report = reports.transactions_report(transaction_items, frequency='M')\n",
    "print(df_orders_report.head(13))\n",
    "df_orders_report.to_csv(\"df_orders_report.csv\")\n",
    "print()"
   ]
  }
 ],
 "metadata": {
  "kernelspec": {
   "display_name": "Python 3 (ipykernel)",
   "language": "python",
   "name": "python3"
  },
  "language_info": {
   "codemirror_mode": {
    "name": "ipython",
    "version": 3
   },
   "file_extension": ".py",
   "mimetype": "text/x-python",
   "name": "python",
   "nbconvert_exporter": "python",
   "pygments_lexer": "ipython3",
   "version": "3.9.12"
  }
 },
 "nbformat": 4,
 "nbformat_minor": 5
}
